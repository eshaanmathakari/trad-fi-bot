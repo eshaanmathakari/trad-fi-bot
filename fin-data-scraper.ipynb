{
 "cells": [
  {
   "cell_type": "code",
   "execution_count": null,
   "metadata": {},
   "outputs": [],
   "source": [
    "pip install requests beautifulsoup4 pandas"
   ]
  },
  {
   "cell_type": "code",
   "execution_count": null,
   "metadata": {},
   "outputs": [],
   "source": [
    "import requests\n",
    "from bs4 import BeautifulSoup\n",
    "import re\n",
    "\n",
    "# Helper function to clean text\n",
    "def clean_text(text):\n",
    "    # Remove unwanted symbols and extra spaces\n",
    "    text = re.sub(r'\\s+', ' ', text)  # Replace multiple spaces with a single space\n",
    "    text = re.sub(r'[^\\w\\s.,]', '', text)  # Remove non-alphanumeric characters (except ., and spaces)\n",
    "    return text.strip()\n",
    "\n",
    "# Function to scrape financial advice from a given URL\n",
    "def scrape_url(url):\n",
    "    headers = {'User-Agent': 'Mozilla/5.0'}\n",
    "    response = requests.get(url, headers=headers)\n",
    "    \n",
    "    if response.status_code != 200:\n",
    "        print(f\"Failed to retrieve: {url}\")\n",
    "        return []\n",
    "\n",
    "    soup = BeautifulSoup(response.content, 'html.parser')\n",
    "\n",
    "    # Extract all paragraphs and list items, common places for financial advice\n",
    "    advice = []\n",
    "    for tag in soup.find_all(['p', 'li']):\n",
    "        text = clean_text(tag.get_text())\n",
    "        if text and len(text) > 50:  # Only add text if it's long enough to be useful advice\n",
    "            advice.append(text)\n",
    "\n",
    "    return advice\n",
    "\n",
    "# List of URLs to scrape financial advice from\n",
    "urls = [\n",
    "    # \"https://www.reddit.com/r/personalfinance/wiki/index/#wiki_please_read_this_basic_financial_advice_everyone_should_follow\",\n",
    "    \"https://www.investor.gov/free-financial-planning-tools\",\n",
    "    \"https://www.investopedia.com/personal-finance-4427760\",\n",
    "    # \"https://www.nerdwallet.com/article/investing/how-to-invest\",\n",
    "    \"https://www.thebalance.com/investing-4074025\",\n",
    "    \"https://www.fidelity.com/learning-center/investment-products/stocks/basics-of-stock-investing\"\n",
    "]\n",
    "\n",
    "# Initialize an empty list to store all the scraped advice\n",
    "all_advice = []\n",
    "\n",
    "# Scrape each URL and collect the advice\n",
    "for url in urls:\n",
    "    print(f\"Scraping: {url}\")\n",
    "    advice = scrape_url(url)\n",
    "    all_advice.extend(advice)\n",
    "\n",
    "# Save the scraped advice to a document (text file) for RAG use\n",
    "with open('personal_finance_advice_corpus.txt', 'w') as f:\n",
    "    for advice in all_advice:\n",
    "        f.write(advice + \"\\n\\n\")  # Add new lines between pieces of advice\n",
    "\n",
    "print(f\"Scraping completed. {len(all_advice)} pieces of advice saved to 'personal_finance_advice_corpus.txt'.\")\n",
    "\n"
   ]
  },
  {
   "cell_type": "code",
   "execution_count": null,
   "metadata": {},
   "outputs": [],
   "source": []
  }
 ],
 "metadata": {
  "kernelspec": {
   "display_name": "Python 3",
   "language": "python",
   "name": "python3"
  },
  "language_info": {
   "codemirror_mode": {
    "name": "ipython",
    "version": 3
   },
   "file_extension": ".py",
   "mimetype": "text/x-python",
   "name": "python",
   "nbconvert_exporter": "python",
   "pygments_lexer": "ipython3",
   "version": "3.9.6"
  }
 },
 "nbformat": 4,
 "nbformat_minor": 2
}
